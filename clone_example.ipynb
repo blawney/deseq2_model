{
 "cells": [
  {
   "cell_type": "markdown",
   "metadata": {},
   "source": [
    "### Based on https://support.bioconductor.org/p/58553/ try to figure out how to model the equation appropriately in R.\n",
    "\n",
    "The setup there was species, diet, and clone.  Clones are nested within species, so the design is not fully crossed.  Each clone is tested in both A and B diets, so that is a within-subjects factor.\n",
    "\n",
    "A linear model of this could be (note, not modeled in the way we would see it in R- that comes below):\n",
    "\n",
    "$Y_{ijk} = \\mu + S_i + D_j + C(S)_{ik} + SD_{ij} + DC(S)_{ijk}$\n",
    "\n",
    "where $Y_{ijk}$ is an outcome variable (e.g. gene expression), $\\mu$ is an overall mean, $S_i$ indicates species $i$ ($i \\in \\{1,2\\}$), $D_j$ indicates diet $j$ ($j \\in \\{1,2\\}$), and $C(S)_{ik}$ indicates that clone $k$ ($k \\in \\{1,\\ldots,5\\}$) is nested inside species $i$.  The term we're most interested in here is $SD_{ij}$ which is the interaction of species $i$ with diet $j$.  The final term $DC(S)_{ijk}$ is the clone-specific effect of the diet.  Collectively, any term with $k$ represents some random error about the mean for the other combinations of species and diet factors.\n",
    "\n",
    "Initially, ignore the paired nature of the clones (with respect to diet) and consider only the species and diet factors, leaving:\n",
    "\n",
    "$Y_{ij} = \\mu + S_i + D_j + SD_{ij}$\n",
    "\n",
    "Setup some simulated data, and run the model in DESeq2 to see that we recover the result.\n",
    "\n",
    "First, the experimental design:"
   ]
  },
  {
   "cell_type": "code",
   "execution_count": 1,
   "metadata": {
    "collapsed": false
   },
   "outputs": [
    {
     "name": "stderr",
     "output_type": "stream",
     "text": [
      "/home/brian/Python/venv/lib/python2.7/site-packages/matplotlib/__init__.py:872: UserWarning: axes.color_cycle is deprecated and replaced with axes.prop_cycle; please use the latter.\n",
      "  warnings.warn(self.msg_depr % (key, alt_key))\n"
     ]
    }
   ],
   "source": [
    "import numpy as np\n",
    "import matplotlib.pyplot as plt\n",
    "import seaborn as sns\n",
    "import pandas as pd\n",
    "\n",
    "%matplotlib inline\n",
    "sns.set_style('darkgrid')"
   ]
  },
  {
   "cell_type": "code",
   "execution_count": 2,
   "metadata": {
    "collapsed": false
   },
   "outputs": [
    {
     "data": {
      "text/html": [
       "<div style=\"max-height:1000px;max-width:1500px;overflow:auto;\">\n",
       "<table border=\"1\" class=\"dataframe\">\n",
       "  <thead>\n",
       "    <tr style=\"text-align: right;\">\n",
       "      <th></th>\n",
       "      <th>clone</th>\n",
       "      <th>diet</th>\n",
       "      <th>species</th>\n",
       "    </tr>\n",
       "  </thead>\n",
       "  <tbody>\n",
       "    <tr>\n",
       "      <th>c1_A_sp1</th>\n",
       "      <td>c1</td>\n",
       "      <td>A</td>\n",
       "      <td>sp1</td>\n",
       "    </tr>\n",
       "    <tr>\n",
       "      <th>c1_B_sp1</th>\n",
       "      <td>c1</td>\n",
       "      <td>B</td>\n",
       "      <td>sp1</td>\n",
       "    </tr>\n",
       "    <tr>\n",
       "      <th>c2_A_sp1</th>\n",
       "      <td>c2</td>\n",
       "      <td>A</td>\n",
       "      <td>sp1</td>\n",
       "    </tr>\n",
       "    <tr>\n",
       "      <th>c2_B_sp1</th>\n",
       "      <td>c2</td>\n",
       "      <td>B</td>\n",
       "      <td>sp1</td>\n",
       "    </tr>\n",
       "    <tr>\n",
       "      <th>c3_A_sp1</th>\n",
       "      <td>c3</td>\n",
       "      <td>A</td>\n",
       "      <td>sp1</td>\n",
       "    </tr>\n",
       "    <tr>\n",
       "      <th>c3_B_sp1</th>\n",
       "      <td>c3</td>\n",
       "      <td>B</td>\n",
       "      <td>sp1</td>\n",
       "    </tr>\n",
       "    <tr>\n",
       "      <th>c4_A_sp1</th>\n",
       "      <td>c4</td>\n",
       "      <td>A</td>\n",
       "      <td>sp1</td>\n",
       "    </tr>\n",
       "    <tr>\n",
       "      <th>c4_B_sp1</th>\n",
       "      <td>c4</td>\n",
       "      <td>B</td>\n",
       "      <td>sp1</td>\n",
       "    </tr>\n",
       "    <tr>\n",
       "      <th>c5_A_sp1</th>\n",
       "      <td>c5</td>\n",
       "      <td>A</td>\n",
       "      <td>sp1</td>\n",
       "    </tr>\n",
       "    <tr>\n",
       "      <th>c5_B_sp1</th>\n",
       "      <td>c5</td>\n",
       "      <td>B</td>\n",
       "      <td>sp1</td>\n",
       "    </tr>\n",
       "    <tr>\n",
       "      <th>c6_A_sp2</th>\n",
       "      <td>c6</td>\n",
       "      <td>A</td>\n",
       "      <td>sp2</td>\n",
       "    </tr>\n",
       "    <tr>\n",
       "      <th>c6_B_sp2</th>\n",
       "      <td>c6</td>\n",
       "      <td>B</td>\n",
       "      <td>sp2</td>\n",
       "    </tr>\n",
       "    <tr>\n",
       "      <th>c7_A_sp2</th>\n",
       "      <td>c7</td>\n",
       "      <td>A</td>\n",
       "      <td>sp2</td>\n",
       "    </tr>\n",
       "    <tr>\n",
       "      <th>c7_B_sp2</th>\n",
       "      <td>c7</td>\n",
       "      <td>B</td>\n",
       "      <td>sp2</td>\n",
       "    </tr>\n",
       "    <tr>\n",
       "      <th>c8_A_sp2</th>\n",
       "      <td>c8</td>\n",
       "      <td>A</td>\n",
       "      <td>sp2</td>\n",
       "    </tr>\n",
       "    <tr>\n",
       "      <th>c8_B_sp2</th>\n",
       "      <td>c8</td>\n",
       "      <td>B</td>\n",
       "      <td>sp2</td>\n",
       "    </tr>\n",
       "    <tr>\n",
       "      <th>c9_A_sp2</th>\n",
       "      <td>c9</td>\n",
       "      <td>A</td>\n",
       "      <td>sp2</td>\n",
       "    </tr>\n",
       "    <tr>\n",
       "      <th>c9_B_sp2</th>\n",
       "      <td>c9</td>\n",
       "      <td>B</td>\n",
       "      <td>sp2</td>\n",
       "    </tr>\n",
       "    <tr>\n",
       "      <th>c10_A_sp2</th>\n",
       "      <td>c10</td>\n",
       "      <td>A</td>\n",
       "      <td>sp2</td>\n",
       "    </tr>\n",
       "    <tr>\n",
       "      <th>c10_B_sp2</th>\n",
       "      <td>c10</td>\n",
       "      <td>B</td>\n",
       "      <td>sp2</td>\n",
       "    </tr>\n",
       "  </tbody>\n",
       "</table>\n",
       "</div>"
      ],
      "text/plain": [
       "          clone diet species\n",
       "c1_A_sp1     c1    A     sp1\n",
       "c1_B_sp1     c1    B     sp1\n",
       "c2_A_sp1     c2    A     sp1\n",
       "c2_B_sp1     c2    B     sp1\n",
       "c3_A_sp1     c3    A     sp1\n",
       "c3_B_sp1     c3    B     sp1\n",
       "c4_A_sp1     c4    A     sp1\n",
       "c4_B_sp1     c4    B     sp1\n",
       "c5_A_sp1     c5    A     sp1\n",
       "c5_B_sp1     c5    B     sp1\n",
       "c6_A_sp2     c6    A     sp2\n",
       "c6_B_sp2     c6    B     sp2\n",
       "c7_A_sp2     c7    A     sp2\n",
       "c7_B_sp2     c7    B     sp2\n",
       "c8_A_sp2     c8    A     sp2\n",
       "c8_B_sp2     c8    B     sp2\n",
       "c9_A_sp2     c9    A     sp2\n",
       "c9_B_sp2     c9    B     sp2\n",
       "c10_A_sp2   c10    A     sp2\n",
       "c10_B_sp2   c10    B     sp2"
      ]
     },
     "execution_count": 2,
     "metadata": {},
     "output_type": "execute_result"
    }
   ],
   "source": [
    "# setup the design, including the clones, which are nested within the species factor.  Initially we will ignore\n",
    "# but later we will incorporate.\n",
    "\n",
    "species = np.repeat(['sp1','sp2'],10)\n",
    "diet = np.tile(['A', 'B'], 10)\n",
    "clone = ['c%s' % s for s in np.repeat(np.arange(1,11),2)]\n",
    "design = pd.DataFrame({'species':species, 'diet': diet, 'clone':clone})\n",
    "sample_ids = design.clone + '_' + design.diet + '_' + design.species\n",
    "design.index = sample_ids\n",
    "design"
   ]
  },
  {
   "cell_type": "markdown",
   "metadata": {},
   "source": [
    "### In the threads, they were interested in:\n",
    "- comparison of diet\n",
    "- comparison of species\n",
    "- interaction of species with diet (i.e. does the diet affect the species differently).\n",
    "\n",
    "This final effect is the one we wish to look at and see if we can recover from the simulated data.\n",
    "\n",
    "First, we include both main effects of species and diet, AND include an interaction.  That is, species 1 values will be generally higher, and the response to the diet will be different between species 1 and 2.  Specifically, species 1 will increase with diet B, and species 2 will decrease with diet B.\n",
    "\n",
    "If we model (using R formula syntax) as \"~species + diet + species:diet\" The model is:\n",
    "\n",
    "$Y =\\beta_0 + \\beta_1 I(sp=2) + \\beta_2I(diet=B) + \\beta_3I(sp=2,diet=B)$\n",
    "\n",
    "where the intercept term $\\beta_0$ represents the mean of expressions of samples from species 1 on diet A.  The indicator function $I(sp=2)$ is 1 if the sample is species 2 and zero for species 1.  Similar for the other indicators."
   ]
  },
  {
   "cell_type": "markdown",
   "metadata": {},
   "source": [
    "### First make some simulated data and plot to show the structure:"
   ]
  },
  {
   "cell_type": "code",
   "execution_count": 47,
   "metadata": {
    "collapsed": false
   },
   "outputs": [
    {
     "data": {
      "image/png": "[encoded data removed]",
      "text/plain": [
       "<matplotlib.figure.Figure at 0x7fe98cabca90>"
      ]
     },
     "metadata": {},
     "output_type": "display_data"
    }
   ],
   "source": [
    "np.random.seed(0)\n",
    "z0 = 10 # some value, doesn't matter except to change the \n",
    "d = 1\n",
    "\n",
    "# sample all data from a uniform distribution to start.  \n",
    "# only set the values in the 'A' condition\n",
    "#THEN we will add the main and interaction effects.\n",
    "data = pd.Series(index=design.index)\n",
    "data[design.index] = 0\n",
    "a_samples = [x for x in design.index if x.split('_')[1] == 'A']\n",
    "data[a_samples] = z0+d*np.random.random(size=10)\n",
    "\n",
    "# now to add the interaction effect.\n",
    "# here, we mock species 1 having a positive effect associated with the diet change (A->B)\n",
    "# and species 2 having a negative effect.\n",
    "delta = 5.0 # mean of a normal distribution\n",
    "scale = delta/2 # stdev of the normal\n",
    "\n",
    "#perturb the sp1 value UP in the B diet:\n",
    "# take the \n",
    "start_index = design.ix[(design.species == 'sp1') & (design.diet == 'A')].index\n",
    "target_index = map(lambda x: x.replace('_A_','_B_'), start_index)\n",
    "data[target_index] = data[start_index] + np.random.normal(loc = delta, scale=scale, size=5)\n",
    "\n",
    "#perturb the sp2 value DOWN in the B diet:\n",
    "start_index = design.ix[(design.species == 'sp2') & (design.diet == 'A')].index\n",
    "target_index = map(lambda x: x.replace('_A_','_B_'), start_index)\n",
    "data[target_index] = data[start_index] - np.random.normal(loc = delta, scale=scale, size=5)\n",
    "data.name = 'mygene'\n",
    "\n",
    "\n",
    "# add a main effect for species:\n",
    "main_species_effect_size = 10\n",
    "target_index = design.ix[design.species == 'sp1'].index\n",
    "data[target_index] = data[target_index] + main_species_effect_size\n",
    "\n",
    "# plot the pairs to confirm our simulated data:\n",
    "fig, ax = plt.subplots(figsize=(8,8))\n",
    "\n",
    "for clone_id in ['c%s' % x for x in np.arange(1,6)]:\n",
    "        diet_a = clone_id + '_A_sp1'\n",
    "        diet_b = clone_id + '_B_sp1'\n",
    "        v1 = data[diet_a]\n",
    "        v2 = data[diet_b]\n",
    "        ax.plot([0,1], [v1, v2], '-o', c='k', label='sp1')\n",
    "\n",
    "for clone_id in ['c%s' % x for x in np.arange(6,11)]:\n",
    "        diet_a = clone_id + '_A_sp2'\n",
    "        diet_b = clone_id + '_B_sp2'\n",
    "        v1 = data[diet_a]\n",
    "        v2 = data[diet_b]\n",
    "        ax.plot([0,1], [v1, v2], '-^', c='b', label='sp2')\n",
    "ax.set_xticks([0,1])\n",
    "ax.set_xticklabels(['A', 'B'])\n",
    "ax.set_xlim(-0.2, 1.2)\n",
    "handles, labels = plt.gca().get_legend_handles_labels()\n",
    "newLabels, newHandles = [], []\n",
    "for handle, label in zip(handles, labels):\n",
    "    if label not in newLabels:\n",
    "        newLabels.append(label)\n",
    "        newHandles.append(handle)\n",
    "plt.legend(newHandles, newLabels, loc=3, fontsize=18)\n",
    "plt.show()\n"
   ]
  },
  {
   "cell_type": "markdown",
   "metadata": {},
   "source": [
    "With this data and the following model,\n",
    "\n",
    "$Y =\\beta_0 + \\beta_1 I(sp=2) + \\beta_2I(diet=B) + \\beta_3I(sp=2,diet=B)$\n",
    "\n",
    "Comparing the model for (species 1, diet A) with (species 1, diet B):\n",
    "\n",
    "$Y_{1,A} =\\beta_0$\n",
    "\n",
    "$Y_{1,B} = \\beta_0 + \\beta_2$\n",
    "\n",
    "we see that the main effect of condition, $\\beta_2$, is controlled by the upper line (species 1).  By visual inspection, this is maybe 6 or so.\n",
    "\n",
    "Comparing the models for (species 1, diet A) with (species 2, diet A) to get the species main effect:\n",
    "\n",
    "$Y_{1,A} =\\beta_0$\n",
    "\n",
    "$Y_{2,A} = \\beta_0 + \\beta_1$\n",
    "\n",
    "We see that $\\beta_1$ is the difference on the left side (diet A).  This appears to be about -10.\n",
    "\n",
    "Finally, the interaction term $\\beta_3$ can be expressed as:\n",
    "\n",
    "$\\beta_3 = Y_{2,B} - \\beta_0 - \\beta_1-\\beta_2$\n",
    "\n",
    "identifying $Y_{2,A} = \\beta_0 + \\beta_1$, we can write\n",
    "\n",
    "$\\beta_3 = Y_{2,B} - Y_{2,A}-\\beta_2$\n",
    "\n",
    "From the plot, estimating $Y_{2,B} - Y_{2,A} \\approx -5$ and $\\beta_2 \\approx 6$, this gives a guess of $\\beta_3 \\approx -11$\n",
    "\n",
    "\n",
    "\n"
   ]
  },
  {
   "cell_type": "markdown",
   "metadata": {},
   "source": [
    "\n",
    "### First, run a simple linear model so confirm that it's capable of finding our known main/interaction effects.\n",
    "\n",
    "I didn't want to get involved with rpy2 here, so just use the linear model functionality in statsmodels."
   ]
  },
  {
   "cell_type": "code",
   "execution_count": 20,
   "metadata": {
    "collapsed": true
   },
   "outputs": [],
   "source": [
    "import statsmodels.formula.api as sm"
   ]
  },
  {
   "cell_type": "code",
   "execution_count": 48,
   "metadata": {
    "collapsed": false
   },
   "outputs": [
    {
     "name": "stdout",
     "output_type": "stream",
     "text": [
      "          clone diet species  mygene\n",
      "c1_A_sp1     c1    A     sp1      20\n",
      "c1_B_sp1     c1    B     sp1      25\n",
      "c2_A_sp1     c2    A     sp1      20\n",
      "c2_B_sp1     c2    B     sp1      29\n",
      "c3_A_sp1     c3    A     sp1      20\n",
      "c3_B_sp1     c3    B     sp1      27\n",
      "c4_A_sp1     c4    A     sp1      20\n",
      "c4_B_sp1     c4    B     sp1      25\n",
      "c5_A_sp1     c5    A     sp1      20\n",
      "c5_B_sp1     c5    B     sp1      26\n",
      "c6_A_sp2     c6    A     sp2      10\n",
      "c6_B_sp2     c6    B     sp2       4\n",
      "c7_A_sp2     c7    A     sp2      10\n",
      "c7_B_sp2     c7    B     sp2       1\n",
      "c8_A_sp2     c8    A     sp2      10\n",
      "c8_B_sp2     c8    B     sp2       6\n",
      "c9_A_sp2     c9    A     sp2      10\n",
      "c9_B_sp2     c9    B     sp2       5\n",
      "c10_A_sp2   c10    A     sp2      10\n",
      "c10_B_sp2   c10    B     sp2       7\n",
      "=*=*=*=*=*=*=*=*=*=*=*=*=*=*=*=*=*=*=*=*=*=*=*=*=*=*=*=*=*=*=*=*=*=*=*=*=*=*=*=*=*=*=*=*=*=*=*=*=*=*\n",
      "                            OLS Regression Results                            \n",
      "==============================================================================\n",
      "Dep. Variable:                 mygene   R-squared:                       0.978\n",
      "Model:                            OLS   Adj. R-squared:                  0.974\n",
      "Method:                 Least Squares   F-statistic:                     236.9\n",
      "Date:                Wed, 04 Jan 2017   Prob (F-statistic):           1.82e-13\n",
      "Time:                        12:22:19   Log-Likelihood:                -33.203\n",
      "No. Observations:                  20   AIC:                             74.41\n",
      "Df Residuals:                      16   BIC:                             78.39\n",
      "Df Model:                           3                                         \n",
      "Covariance Type:            nonrobust                                         \n",
      "============================================================================================\n",
      "                               coef    std err          t      P>|t|      [95.0% Conf. Int.]\n",
      "--------------------------------------------------------------------------------------------\n",
      "Intercept                   20.0000      0.636     31.427      0.000        18.651    21.349\n",
      "species[T.sp2]             -10.0000      0.900    -11.111      0.000       -11.908    -8.092\n",
      "diet[T.B]                    6.4000      0.900      7.111      0.000         4.492     8.308\n",
      "species[T.sp2]:diet[T.B]   -11.8000      1.273     -9.271      0.000       -14.498    -9.102\n",
      "==============================================================================\n",
      "Omnibus:                        5.479   Durbin-Watson:                   1.822\n",
      "Prob(Omnibus):                  0.065   Jarque-Bera (JB):                3.733\n",
      "Skew:                          -0.436   Prob(JB):                        0.155\n",
      "Kurtosis:                       4.928   Cond. No.                         6.85\n",
      "==============================================================================\n",
      "\n",
      "Warnings:\n",
      "[1] Standard Errors assume that the covariance matrix of the errors is correctly specified.\n"
     ]
    }
   ],
   "source": [
    "# create a dataframe with the d.v. and design matrix:\n",
    "df = pd.DataFrame(np.floor(data))\n",
    "df = df.astype(int)\n",
    "full_df = pd.concat([design, df], axis=1)\n",
    "full_df.to_csv('fake_data.tsv', index_label='sample', sep='\\t')\n",
    "print full_df\n",
    "print '=*'*50\n",
    "\n",
    "model = sm.ols(formula='mygene ~ species + diet + species:diet', data=full_df)\n",
    "results = model.fit()\n",
    "print results.summary()"
   ]
  },
  {
   "cell_type": "markdown",
   "metadata": {},
   "source": [
    "### Take a look at the parameters obtained from the fit:"
   ]
  },
  {
   "cell_type": "code",
   "execution_count": 49,
   "metadata": {
    "collapsed": false
   },
   "outputs": [
    {
     "data": {
      "text/plain": [
       "Intercept                   20.0\n",
       "species[T.sp2]             -10.0\n",
       "diet[T.B]                    6.4\n",
       "species[T.sp2]:diet[T.B]   -11.8\n",
       "dtype: float64"
      ]
     },
     "execution_count": 49,
     "metadata": {},
     "output_type": "execute_result"
    }
   ],
   "source": [
    "results.params"
   ]
  },
  {
   "cell_type": "markdown",
   "metadata": {},
   "source": [
    "### All of thoses parameters match our intuition and rough visual inspections.  Plot the regressions with the data:"
   ]
  },
  {
   "cell_type": "code",
   "execution_count": 50,
   "metadata": {
    "collapsed": false
   },
   "outputs": [
    {
     "data": {
      "image/png": "[encoded data removed]",
      "text/plain": [
       "<matplotlib.figure.Figure at 0x7fe98c48d390>"
      ]
     },
     "metadata": {},
     "output_type": "display_data"
    }
   ],
   "source": [
    "fig, ax = plt.subplots(figsize=(8,8))\n",
    "\n",
    "for clone_id in ['c%s' % x for x in np.arange(1,6)]:\n",
    "        diet_a = clone_id + '_A_sp1'\n",
    "        diet_b = clone_id + '_B_sp1'\n",
    "        v1 = data[diet_a]\n",
    "        v2 = data[diet_b]\n",
    "        ax.plot([0,1], [v1, v2], '-.o', c='k')\n",
    "\n",
    "for clone_id in ['c%s' % x for x in np.arange(6,11)]:\n",
    "        diet_a = clone_id + '_A_sp2'\n",
    "        diet_b = clone_id + '_B_sp2'\n",
    "        v1 = data[diet_a]\n",
    "        v2 = data[diet_b]\n",
    "        ax.plot([0,1], [v1, v2], '-.^', c='b')\n",
    "\n",
    "        \n",
    "# plot from the model fit:\n",
    "B = results.params\n",
    "ax.plot([0,1], [B[0], B[0]+B[2]], linewidth=5) # species 1:\n",
    "ax.plot([0,1], [B[0]+B[1], B[0]+B[1]+B[2]+B[3]], linewidth=5) # species 2:\n",
    "\n",
    "ax.set_xticks([0,1])\n",
    "ax.set_xticklabels(['A', 'B'])\n",
    "ax.set_xlim(-0.2, 1.2)\n",
    "plt.show()\n",
    "plt.close()"
   ]
  },
  {
   "cell_type": "markdown",
   "metadata": {},
   "source": [
    "### Those look OK.\n",
    "\n",
    "### Now embed this simulated data into a mocked count matrix, as provided by DESeq2.  Rather than dealing with rpy2, just call a Rscript, printed below.\n",
    "\n",
    "In short, create a mock data matrix of 20 samples, and row-bind the data above to that matrix.  Then run the usual DESeq workflow and print out the results.  With rpy2, could simply import those results into this notebook, but for the moment we will have to copy the coefficients manually."
   ]
  },
  {
   "cell_type": "code",
   "execution_count": 51,
   "metadata": {
    "collapsed": false,
    "scrolled": true
   },
   "outputs": [
    {
     "name": "stdout",
     "output_type": "stream",
     "text": [
      "library(DESeq2)\r\n",
      "\r\n",
      "args<-commandArgs(TRUE)\r\n",
      "\r\n",
      "mydata <- read.table(args[1], sep='\\t', header = T, row.names = 1, stringsAsFactors = F)\r\n",
      "\r\n",
      "print(mydata)\r\n",
      "\r\n",
      "mock_data <- makeExampleDESeqDataSet(m=20)\r\n",
      "colnames(mock_data) = rownames(mydata)\r\n",
      "\r\n",
      "mtx = counts(mock_data)\r\n",
      "mtx = rbind(mtx, 'mygene'=mydata$mygene)\r\n",
      "\r\n",
      "annotations = data.frame(species=factor(mydata$species), diet = factor(mydata$diet))\r\n",
      "rownames(annotations) = rownames(mydata)\r\n",
      "\r\n",
      "dds = DESeqDataSetFromMatrix(countData=mtx, colData=annotations, design=~species+diet + species:diet)\r\n",
      "sizeFactors(dds) = rep(1,ncol(dds))\r\n",
      "dds = DESeq(dds)\r\n",
      "\r\n",
      "print(colData(dds))\r\n",
      "print(resultsNames(dds))\r\n",
      "\r\n",
      "print('Model coefficients, log2 scale:')\r\n",
      "print(coef(dds)['mygene',])\r\n",
      "\r\n",
      "print('Species effect:')\r\n",
      "r1 = results(dds, contrast=c('species', 'sp2', 'sp1'))\r\n",
      "print(r1['mygene',])\r\n",
      "\r\n",
      "print('Diet effect:')\r\n",
      "r2 = results(dds, contrast=c('diet', 'A', 'B'))\r\n",
      "print(r2['mygene',])\r\n",
      "\r\n",
      "print('Interaction:')\r\n",
      "r3 = results(dds, contrast=c(0,0,0,1))\r\n",
      "print(r3['mygene',])\r\n",
      "\r\n",
      "write.table(counts(dds), 'mocked_deseq2_data_with_simulated_gene.tsv', sep='\\t', quote=F)\r\n"
     ]
    }
   ],
   "source": [
    "! cat make_mock_data.R"
   ]
  },
  {
   "cell_type": "markdown",
   "metadata": {},
   "source": [
    "### Now actually run the script.  'fake_data.tsv' was created above when we ran the linear model via a python library."
   ]
  },
  {
   "cell_type": "code",
   "execution_count": 52,
   "metadata": {
    "collapsed": false,
    "scrolled": true
   },
   "outputs": [
    {
     "name": "stdout",
     "output_type": "stream",
     "text": [
      "Loading required package: S4Vectors\n",
      "Loading required package: methods\n",
      "Loading required package: stats4\n",
      "Loading required package: BiocGenerics\n",
      "Loading required package: parallel\n",
      "\n",
      "Attaching package: ‘BiocGenerics’\n",
      "\n",
      "The following objects are masked from ‘package:parallel’:\n",
      "\n",
      "    clusterApply, clusterApplyLB, clusterCall, clusterEvalQ,\n",
      "    clusterExport, clusterMap, parApply, parCapply, parLapply,\n",
      "    parLapplyLB, parRapply, parSapply, parSapplyLB\n",
      "\n",
      "The following objects are masked from ‘package:stats’:\n",
      "\n",
      "    IQR, mad, xtabs\n",
      "\n",
      "The following objects are masked from ‘package:base’:\n",
      "\n",
      "    anyDuplicated, append, as.data.frame, as.vector, cbind, colnames,\n",
      "    do.call, duplicated, eval, evalq, Filter, Find, get, grep, grepl,\n",
      "    intersect, is.unsorted, lapply, lengths, Map, mapply, match, mget,\n",
      "    order, paste, pmax, pmax.int, pmin, pmin.int, Position, rank,\n",
      "    rbind, Reduce, rownames, sapply, setdiff, sort, table, tapply,\n",
      "    union, unique, unlist, unsplit\n",
      "\n",
      "Loading required package: IRanges\n",
      "Loading required package: GenomicRanges\n",
      "Loading required package: GenomeInfoDb\n",
      "Loading required package: SummarizedExperiment\n",
      "Loading required package: Biobase\n",
      "Welcome to Bioconductor\n",
      "\n",
      "    Vignettes contain introductory material; view with\n",
      "    'browseVignettes()'. To cite Bioconductor, see\n",
      "    'citation(\"Biobase\")', and for packages 'citation(\"pkgname\")'.\n",
      "\n",
      "Loading required package: Rcpp\n",
      "Loading required package: RcppArmadillo\n",
      "          clone diet species mygene\n",
      "c1_A_sp1     c1    A     sp1     20\n",
      "c1_B_sp1     c1    B     sp1     25\n",
      "c2_A_sp1     c2    A     sp1     20\n",
      "c2_B_sp1     c2    B     sp1     29\n",
      "c3_A_sp1     c3    A     sp1     20\n",
      "c3_B_sp1     c3    B     sp1     27\n",
      "c4_A_sp1     c4    A     sp1     20\n",
      "c4_B_sp1     c4    B     sp1     25\n",
      "c5_A_sp1     c5    A     sp1     20\n",
      "c5_B_sp1     c5    B     sp1     26\n",
      "c6_A_sp2     c6    A     sp2     10\n",
      "c6_B_sp2     c6    B     sp2      4\n",
      "c7_A_sp2     c7    A     sp2     10\n",
      "c7_B_sp2     c7    B     sp2      1\n",
      "c8_A_sp2     c8    A     sp2     10\n",
      "c8_B_sp2     c8    B     sp2      6\n",
      "c9_A_sp2     c9    A     sp2     10\n",
      "c9_B_sp2     c9    B     sp2      5\n",
      "c10_A_sp2   c10    A     sp2     10\n",
      "c10_B_sp2   c10    B     sp2      7\n",
      "using pre-existing size factors\n",
      "estimating dispersions\n",
      "gene-wise dispersion estimates\n",
      "mean-dispersion relationship\n",
      "final dispersion estimates\n",
      "fitting model and testing\n",
      "DataFrame with 20 rows and 3 columns\n",
      "           species     diet sizeFactor\n",
      "          <factor> <factor>  <numeric>\n",
      "c1_A_sp1       sp1        A          1\n",
      "c1_B_sp1       sp1        B          1\n",
      "c2_A_sp1       sp1        A          1\n",
      "c2_B_sp1       sp1        B          1\n",
      "c3_A_sp1       sp1        A          1\n",
      "...            ...      ...        ...\n",
      "c8_B_sp2       sp2        B          1\n",
      "c9_A_sp2       sp2        A          1\n",
      "c9_B_sp2       sp2        B          1\n",
      "c10_A_sp2      sp2        A          1\n",
      "c10_B_sp2      sp2        B          1\n",
      "[1] \"Intercept\"          \"species_sp2_vs_sp1\" \"diet_B_vs_A\"       \n",
      "[4] \"speciessp2.dietB\"  \n",
      "[1] \"Model coefficients, log2 scale:\"\n",
      "         Intercept species_sp2_vs_sp1        diet_B_vs_A   speciessp2.dietB \n",
      "         4.3219278         -0.9999998          0.4005380         -1.5208320 \n",
      "[1] \"Species effect:\"\n",
      "log2 fold change (MLE): species sp2 vs sp1 \n",
      "Wald test p-value: species sp2 vs sp1 \n",
      "DataFrame with 1 row and 6 columns\n",
      "        baseMean log2FoldChange     lfcSE      stat    pvalue      padj\n",
      "       <numeric>      <numeric> <numeric> <numeric> <numeric> <numeric>\n",
      "mygene     15.25     -0.9999998 0.4100697 -2.438609 0.0147439 0.8546837\n",
      "[1] \"Diet effect:\"\n",
      "log2 fold change (MLE): diet A vs B \n",
      "Wald test p-value: diet A vs B \n",
      "DataFrame with 1 row and 6 columns\n",
      "        baseMean log2FoldChange     lfcSE      stat    pvalue      padj\n",
      "       <numeric>      <numeric> <numeric> <numeric> <numeric> <numeric>\n",
      "mygene     15.25      -0.400538 0.3772238 -1.061805 0.2883243 0.9450437\n",
      "[1] \"Interaction:\"\n",
      "log2 fold change (MLE): 0,0,0,+1 \n",
      "Wald test p-value: 0,0,0,+1 \n",
      "DataFrame with 1 row and 6 columns\n",
      "        baseMean log2FoldChange     lfcSE      stat     pvalue      padj\n",
      "       <numeric>      <numeric> <numeric> <numeric>  <numeric> <numeric>\n",
      "mygene     15.25      -1.520832 0.6165512 -2.466676 0.01363737  0.701526\n"
     ]
    }
   ],
   "source": [
    "! Rscript make_mock_data.R fake_data.tsv"
   ]
  },
  {
   "cell_type": "markdown",
   "metadata": {},
   "source": [
    "### Reading off the model coefficients and copying below:\n",
    "\n",
    "Note that the coefficients given from DESeq2 are on the log2 scale so have to raise to get the proper coefficients for plotting, etc."
   ]
  },
  {
   "cell_type": "code",
   "execution_count": 53,
   "metadata": {
    "collapsed": false
   },
   "outputs": [],
   "source": [
    "log2coefs = np.array([4.3219278,         -0.9999998 ,         0.4005380  ,       -1.5208320])"
   ]
  },
  {
   "cell_type": "markdown",
   "metadata": {},
   "source": [
    "### Plot the regressions using those coefficients"
   ]
  },
  {
   "cell_type": "code",
   "execution_count": 54,
   "metadata": {
    "collapsed": false,
    "scrolled": false
   },
   "outputs": [
    {
     "data": {
      "image/png": "[encoded data removed]",
      "text/plain": [
       "<matplotlib.figure.Figure at 0x7fe98c884e50>"
      ]
     },
     "metadata": {},
     "output_type": "display_data"
    }
   ],
   "source": [
    "# plot the pairs to confirm our simulated data:\n",
    "fig, ax = plt.subplots(figsize=(8,8))\n",
    "\n",
    "for clone_id in ['c%s' % x for x in np.arange(1,6)]:\n",
    "        diet_a = clone_id + '_A_sp1'\n",
    "        diet_b = clone_id + '_B_sp1'\n",
    "        v1 = data[diet_a]\n",
    "        v2 = data[diet_b]\n",
    "        ax.plot([0,1], [v1, v2], '-.o', c='k')\n",
    "\n",
    "for clone_id in ['c%s' % x for x in np.arange(6,11)]:\n",
    "        diet_a = clone_id + '_A_sp2'\n",
    "        diet_b = clone_id + '_B_sp2'\n",
    "        v1 = data[diet_a]\n",
    "        v2 = data[diet_b]\n",
    "        ax.plot([0,1], [v1, v2], '-.^', c='b')\n",
    "\n",
    "        \n",
    "# plot from the model fit:\n",
    "B = log2coefs\n",
    "ax.plot([0,1], [2**B[0], 2**(B[0]+B[2])], linewidth=5) # species 1:\n",
    "ax.plot([0,1], [2**(B[0]+B[1]), 2**(B[0]+B[1]+B[2]+B[3])], linewidth=5) # species 2:\n",
    "\n",
    "ax.set_xticks([0,1])\n",
    "ax.set_xticklabels(['A', 'B'])\n",
    "ax.set_xlim(-0.2, 1.2)\n",
    "plt.show()\n",
    "plt.close()"
   ]
  },
  {
   "cell_type": "markdown",
   "metadata": {},
   "source": [
    "### So that looks pretty good as well.  I would expect better p/FDR-values based on the relative magnitude of the effect sizes and the dispersion, however.  "
   ]
  }
 ],
 "metadata": {
  "kernelspec": {
   "display_name": "Python 2",
   "language": "python",
   "name": "python2"
  },
  "language_info": {
   "codemirror_mode": {
    "name": "ipython",
    "version": 2
   },
   "file_extension": ".py",
   "mimetype": "text/x-python",
   "name": "python",
   "nbconvert_exporter": "python",
   "pygments_lexer": "ipython2",
   "version": "2.7.9"
  }
 },
 "nbformat": 4,
 "nbformat_minor": 0
}
